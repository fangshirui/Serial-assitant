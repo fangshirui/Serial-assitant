{
 "cells": [
  {
   "cell_type": "code",
   "execution_count": 5,
   "metadata": {},
   "outputs": [],
   "source": [
    "import os\n",
    "# import time\n",
    "import cv2\n"
   ]
  },
  {
   "cell_type": "code",
   "execution_count": 6,
   "metadata": {},
   "outputs": [],
   "source": [
    "# 批量转换图片格式（大小，灰度）\n",
    "def alter(path,object):\n",
    "  result = []\n",
    "  s = os.listdir(path)\n",
    "  count = 1\n",
    "  for i in s:\n",
    "    document = os.path.join(path,i)\n",
    "    img = cv2.imread(document)\n",
    "#     img = cv2.cvtColor(img,cv2.COLOR_BGR2GRAY )\n",
    "    img = cv2.resize(img, (64,64))\n",
    "    listStr = [str(count)]\n",
    "    fileName = ''.join(listStr)\n",
    "    cv2.imwrite(object+os.sep+'%s.jpg' % fileName, img)\n",
    "    count = count + 1\n",
    "alter('raw_dataset/0','raw_dataset/3')"
   ]
  },
  {
   "cell_type": "code",
   "execution_count": 17,
   "metadata": {},
   "outputs": [],
   "source": [
    "# 扩充数据集\n",
    "# -*- coding: utf-8 -*-\n",
    "\n",
    " \n",
    "from keras.preprocessing.image import ImageDataGenerator\n",
    "import os\n",
    "import numpy as np\n",
    "import tensorflow as tf\n",
    " \n",
    "def creat_x_database(rootdir,resize_row,resize_col):\n",
    "    list = os.listdir(rootdir)\n",
    "    database=np.arange(len(list)*resize_row*resize_col*3).reshape(len(list),resize_row,resize_col,3)\n",
    "    for i in range(0,len(list)):\n",
    "        path = os.path.join(rootdir,list[i])    #把目录和文件名合成一个路径\n",
    "        if os.path.isfile(path):                ##判断路径是否为文件\n",
    "            image_raw_data = tf.gfile.FastGFile(path,'rb').read()\n",
    "            with tf.Session() as sess:\n",
    "                img_data = tf.image.decode_jpeg(image_raw_data)\n",
    "                resized=tf.image.resize_images(img_data,[resize_row,resize_col],method=0)\n",
    "                database[i]=resized.eval()\n",
    "    return database\n",
    " \n",
    " \n",
    "'''\n",
    "用以生成一个batch的图像数据，支持实时数据提升。训练时该函数会无限生成数据，\n",
    "直到达到规定的epoch次数为止。\n",
    "'''\n",
    "datagen = ImageDataGenerator(\n",
    "    featurewise_center=True,#去中心化\n",
    "    featurewise_std_normalization=True,#标准化\n",
    "    rotation_range=2,#旋转范围, 随机旋转(0-180)度\n",
    "    width_shift_range=0.1,#随机沿着水平或者垂直方向，以图像的长宽小部分百分比为变化范围进行平移;\n",
    "    height_shift_range=0.1,\n",
    "    shear_range=0.1,#水平或垂直投影变换\n",
    "    zoom_range=0.1,#按比例随机缩放图像尺寸\n",
    "    horizontal_flip=True,#水平翻转图像\n",
    "    fill_mode='nearest')#填充像素, 出现在旋转或平移之后\n",
    " \n",
    "\n",
    " \n",
    "x=creat_x_database('dataset/1_1/',300,300)\n",
    "datagen.fit(x)\n",
    " \n",
    "i=0\n",
    "for batch in datagen.flow(\n",
    "        x,\n",
    "        batch_size=3,\n",
    "        save_to_dir='dataset/1_1_new/',\n",
    "        save_prefix='',\n",
    "        save_format='jpg'):\n",
    "    \n",
    "    i+=1\n",
    "    if i>30:\n",
    "        break"
   ]
  },
  {
   "cell_type": "code",
   "execution_count": null,
   "metadata": {},
   "outputs": [],
   "source": []
  }
 ],
 "metadata": {
  "kernelspec": {
   "display_name": "tensorflow",
   "language": "python",
   "name": "tensorflow"
  },
  "language_info": {
   "codemirror_mode": {
    "name": "ipython",
    "version": 3
   },
   "file_extension": ".py",
   "mimetype": "text/x-python",
   "name": "python",
   "nbconvert_exporter": "python",
   "pygments_lexer": "ipython3",
   "version": "3.5.5"
  },
  "toc": {
   "base_numbering": 1,
   "nav_menu": {},
   "number_sections": true,
   "sideBar": true,
   "skip_h1_title": false,
   "title_cell": "Table of Contents",
   "title_sidebar": "Contents",
   "toc_cell": false,
   "toc_position": {},
   "toc_section_display": true,
   "toc_window_display": false
  },
  "varInspector": {
   "cols": {
    "lenName": 16,
    "lenType": 16,
    "lenVar": 40
   },
   "kernels_config": {
    "python": {
     "delete_cmd_postfix": "",
     "delete_cmd_prefix": "del ",
     "library": "var_list.py",
     "varRefreshCmd": "print(var_dic_list())"
    },
    "r": {
     "delete_cmd_postfix": ") ",
     "delete_cmd_prefix": "rm(",
     "library": "var_list.r",
     "varRefreshCmd": "cat(var_dic_list()) "
    }
   },
   "types_to_exclude": [
    "module",
    "function",
    "builtin_function_or_method",
    "instance",
    "_Feature"
   ],
   "window_display": false
  }
 },
 "nbformat": 4,
 "nbformat_minor": 2
}
